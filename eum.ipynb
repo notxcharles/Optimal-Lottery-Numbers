{
 "cells": [
  {
   "cell_type": "code",
   "execution_count": 8,
   "metadata": {},
   "outputs": [],
   "source": [
    "import numpy as np\n",
    "import pandas as pd\n"
   ]
  },
  {
   "cell_type": "code",
   "execution_count": 9,
   "metadata": {},
   "outputs": [],
   "source": [
    "df = pd.read_csv(\"./EuroMillions_results.csv\", delimiter=\"|\", header=0)"
   ]
  },
  {
   "cell_type": "code",
   "execution_count": 10,
   "metadata": {},
   "outputs": [
    {
     "data": {
      "text/html": [
       "<div>\n",
       "<style scoped>\n",
       "    .dataframe tbody tr th:only-of-type {\n",
       "        vertical-align: middle;\n",
       "    }\n",
       "\n",
       "    .dataframe tbody tr th {\n",
       "        vertical-align: top;\n",
       "    }\n",
       "\n",
       "    .dataframe thead th {\n",
       "        text-align: right;\n",
       "    }\n",
       "</style>\n",
       "<table border=\"1\" class=\"dataframe\">\n",
       "  <thead>\n",
       "    <tr style=\"text-align: right;\">\n",
       "      <th></th>\n",
       "      <th>Draw Date</th>\n",
       "      <th>Ball 1</th>\n",
       "      <th>Ball 2</th>\n",
       "      <th>Ball 3</th>\n",
       "      <th>Ball 4</th>\n",
       "      <th>Ball 5</th>\n",
       "      <th>Lucky 1</th>\n",
       "      <th>Lucky 2</th>\n",
       "      <th>Jackpot</th>\n",
       "    </tr>\n",
       "  </thead>\n",
       "  <tbody>\n",
       "    <tr>\n",
       "      <th>0</th>\n",
       "      <td>Friday 31st Dec 2004</td>\n",
       "      <td>7</td>\n",
       "      <td>8</td>\n",
       "      <td>24</td>\n",
       "      <td>25</td>\n",
       "      <td>47</td>\n",
       "      <td>8</td>\n",
       "      <td>9</td>\n",
       "      <td>7,074,000</td>\n",
       "    </tr>\n",
       "    <tr>\n",
       "      <th>1</th>\n",
       "      <td>Friday 24th Dec 2004</td>\n",
       "      <td>3</td>\n",
       "      <td>4</td>\n",
       "      <td>27</td>\n",
       "      <td>29</td>\n",
       "      <td>37</td>\n",
       "      <td>5</td>\n",
       "      <td>6</td>\n",
       "      <td>7,037,000</td>\n",
       "    </tr>\n",
       "    <tr>\n",
       "      <th>2</th>\n",
       "      <td>Friday 17th Dec 2004</td>\n",
       "      <td>15</td>\n",
       "      <td>19</td>\n",
       "      <td>22</td>\n",
       "      <td>46</td>\n",
       "      <td>49</td>\n",
       "      <td>2</td>\n",
       "      <td>9</td>\n",
       "      <td>17,973,434</td>\n",
       "    </tr>\n",
       "    <tr>\n",
       "      <th>3</th>\n",
       "      <td>Friday 10th Dec 2004</td>\n",
       "      <td>1</td>\n",
       "      <td>3</td>\n",
       "      <td>13</td>\n",
       "      <td>16</td>\n",
       "      <td>43</td>\n",
       "      <td>2</td>\n",
       "      <td>7</td>\n",
       "      <td>12,388,642</td>\n",
       "    </tr>\n",
       "    <tr>\n",
       "      <th>4</th>\n",
       "      <td>Friday 3rd Dec 2004</td>\n",
       "      <td>1</td>\n",
       "      <td>11</td>\n",
       "      <td>15</td>\n",
       "      <td>42</td>\n",
       "      <td>49</td>\n",
       "      <td>3</td>\n",
       "      <td>4</td>\n",
       "      <td>6,945,000</td>\n",
       "    </tr>\n",
       "    <tr>\n",
       "      <th>...</th>\n",
       "      <td>...</td>\n",
       "      <td>...</td>\n",
       "      <td>...</td>\n",
       "      <td>...</td>\n",
       "      <td>...</td>\n",
       "      <td>...</td>\n",
       "      <td>...</td>\n",
       "      <td>...</td>\n",
       "      <td>...</td>\n",
       "    </tr>\n",
       "    <tr>\n",
       "      <th>1549</th>\n",
       "      <td>Tuesday 18th Jan 2022</td>\n",
       "      <td>3</td>\n",
       "      <td>12</td>\n",
       "      <td>19</td>\n",
       "      <td>24</td>\n",
       "      <td>30</td>\n",
       "      <td>2</td>\n",
       "      <td>5</td>\n",
       "      <td>56,246,458</td>\n",
       "    </tr>\n",
       "    <tr>\n",
       "      <th>1550</th>\n",
       "      <td>Friday 14th Jan 2022</td>\n",
       "      <td>6</td>\n",
       "      <td>17</td>\n",
       "      <td>25</td>\n",
       "      <td>31</td>\n",
       "      <td>46</td>\n",
       "      <td>9</td>\n",
       "      <td>12</td>\n",
       "      <td>46,600,782</td>\n",
       "    </tr>\n",
       "    <tr>\n",
       "      <th>1551</th>\n",
       "      <td>Tuesday 11th Jan 2022</td>\n",
       "      <td>4</td>\n",
       "      <td>23</td>\n",
       "      <td>32</td>\n",
       "      <td>33</td>\n",
       "      <td>44</td>\n",
       "      <td>9</td>\n",
       "      <td>12</td>\n",
       "      <td>34,392,715</td>\n",
       "    </tr>\n",
       "    <tr>\n",
       "      <th>1552</th>\n",
       "      <td>Friday 7th Jan 2022</td>\n",
       "      <td>2</td>\n",
       "      <td>14</td>\n",
       "      <td>37</td>\n",
       "      <td>44</td>\n",
       "      <td>50</td>\n",
       "      <td>7</td>\n",
       "      <td>11</td>\n",
       "      <td>25,451,971</td>\n",
       "    </tr>\n",
       "    <tr>\n",
       "      <th>1553</th>\n",
       "      <td>Tuesday 4th Jan 2022</td>\n",
       "      <td>18</td>\n",
       "      <td>28</td>\n",
       "      <td>35</td>\n",
       "      <td>36</td>\n",
       "      <td>41</td>\n",
       "      <td>6</td>\n",
       "      <td>11</td>\n",
       "      <td>14,189,900</td>\n",
       "    </tr>\n",
       "  </tbody>\n",
       "</table>\n",
       "<p>1554 rows × 9 columns</p>\n",
       "</div>"
      ],
      "text/plain": [
       "                  Draw Date  Ball 1  Ball 2  Ball 3  Ball 4  Ball 5  Lucky 1  \\\n",
       "0      Friday 31st Dec 2004       7       8      24      25      47        8   \n",
       "1      Friday 24th Dec 2004       3       4      27      29      37        5   \n",
       "2      Friday 17th Dec 2004      15      19      22      46      49        2   \n",
       "3      Friday 10th Dec 2004       1       3      13      16      43        2   \n",
       "4       Friday 3rd Dec 2004       1      11      15      42      49        3   \n",
       "...                     ...     ...     ...     ...     ...     ...      ...   \n",
       "1549  Tuesday 18th Jan 2022       3      12      19      24      30        2   \n",
       "1550   Friday 14th Jan 2022       6      17      25      31      46        9   \n",
       "1551  Tuesday 11th Jan 2022       4      23      32      33      44        9   \n",
       "1552    Friday 7th Jan 2022       2      14      37      44      50        7   \n",
       "1553   Tuesday 4th Jan 2022      18      28      35      36      41        6   \n",
       "\n",
       "      Lucky 2     Jackpot  \n",
       "0           9   7,074,000  \n",
       "1           6   7,037,000  \n",
       "2           9  17,973,434  \n",
       "3           7  12,388,642  \n",
       "4           4   6,945,000  \n",
       "...       ...         ...  \n",
       "1549        5  56,246,458  \n",
       "1550       12  46,600,782  \n",
       "1551       12  34,392,715  \n",
       "1552       11  25,451,971  \n",
       "1553       11  14,189,900  \n",
       "\n",
       "[1554 rows x 9 columns]"
      ]
     },
     "execution_count": 10,
     "metadata": {},
     "output_type": "execute_result"
    }
   ],
   "source": [
    "df"
   ]
  },
  {
   "cell_type": "code",
   "execution_count": 16,
   "metadata": {},
   "outputs": [
    {
     "data": {
      "text/plain": [
       "Ball 1  Ball 2  Ball 3  Ball 4  Ball 5  Lucky 1  Lucky 2\n",
       "1       2       5       15      42      5        8          1\n",
       "10      12      23      32      50      4        10         1\n",
       "        16      18      31      42      2        5          1\n",
       "        15      39      45      50      9        10         1\n",
       "                35      44      50      3        5          1\n",
       "                                                           ..\n",
       "4       17      29      35      49      1        2          1\n",
       "                26      30      43      6        11         1\n",
       "                24      27      31      10       11         1\n",
       "                23      36      46      6        10         1\n",
       "38      39      45      46      49      7        8          1\n",
       "Length: 1554, dtype: int64"
      ]
     },
     "execution_count": 16,
     "metadata": {},
     "output_type": "execute_result"
    }
   ],
   "source": [
    "df[[\"Ball 1\",\"Ball 2\",\"Ball 3\",\"Ball 4\",\"Ball 5\",\"Lucky 1\",\"Lucky 2\"]].value_counts()"
   ]
  },
  {
   "cell_type": "code",
   "execution_count": 43,
   "metadata": {},
   "outputs": [],
   "source": [
    "balls = [x for x in df[\"Ball 1\"]]\n",
    "balls += [x for x in df[\"Ball 2\"]]\n",
    "balls += [x for x in df[\"Ball 3\"]]\n",
    "balls += [x for x in df[\"Ball 4\"]]\n",
    "balls += [x for x in df[\"Ball 5\"]]"
   ]
  },
  {
   "cell_type": "code",
   "execution_count": 42,
   "metadata": {},
   "outputs": [
    {
     "data": {
      "text/plain": [
       "7770"
      ]
     },
     "execution_count": 42,
     "metadata": {},
     "output_type": "execute_result"
    }
   ],
   "source": [
    "len(balls)"
   ]
  },
  {
   "cell_type": "code",
   "execution_count": 48,
   "metadata": {},
   "outputs": [],
   "source": [
    "new_df = pd.DataFrame()"
   ]
  },
  {
   "cell_type": "code",
   "execution_count": 49,
   "metadata": {},
   "outputs": [],
   "source": [
    "new_df[\"Balls\"] = balls"
   ]
  },
  {
   "cell_type": "code",
   "execution_count": 51,
   "metadata": {},
   "outputs": [
    {
     "data": {
      "text/plain": [
       "23    176\n",
       "19    175\n",
       "50    174\n",
       "17    172\n",
       "44    172\n",
       "42    172\n",
       "38    172\n",
       "21    171\n",
       "25    167\n",
       "5     167\n",
       "10    167\n",
       "26    167\n",
       "29    167\n",
       "37    166\n",
       "27    164\n",
       "30    163\n",
       "15    163\n",
       "20    162\n",
       "1     160\n",
       "12    160\n",
       "14    160\n",
       "4     160\n",
       "49    158\n",
       "45    157\n",
       "3     156\n",
       "7     156\n",
       "6     156\n",
       "11    155\n",
       "39    154\n",
       "28    153\n",
       "24    153\n",
       "43    151\n",
       "35    150\n",
       "13    149\n",
       "31    148\n",
       "9     147\n",
       "16    147\n",
       "36    147\n",
       "34    146\n",
       "32    145\n",
       "48    145\n",
       "2     143\n",
       "40    142\n",
       "8     140\n",
       "47    137\n",
       "41    135\n",
       "18    135\n",
       "46    131\n",
       "33    129\n",
       "22    128\n",
       "Name: Balls, dtype: int64"
      ]
     },
     "execution_count": 51,
     "metadata": {},
     "output_type": "execute_result"
    }
   ],
   "source": [
    "new_df[\"Balls\"].value_counts()"
   ]
  },
  {
   "cell_type": "code",
   "execution_count": null,
   "metadata": {},
   "outputs": [],
   "source": []
  }
 ],
 "metadata": {
  "kernelspec": {
   "display_name": "Python 3.10.2 64-bit",
   "language": "python",
   "name": "python3"
  },
  "language_info": {
   "codemirror_mode": {
    "name": "ipython",
    "version": 3
   },
   "file_extension": ".py",
   "mimetype": "text/x-python",
   "name": "python",
   "nbconvert_exporter": "python",
   "pygments_lexer": "ipython3",
   "version": "3.10.2"
  },
  "orig_nbformat": 4,
  "vscode": {
   "interpreter": {
    "hash": "5c96f01ceb864e4f314488f796d7ad3ed3c5d7e2e6828b71e2c816343e6bed5e"
   }
  }
 },
 "nbformat": 4,
 "nbformat_minor": 2
}
